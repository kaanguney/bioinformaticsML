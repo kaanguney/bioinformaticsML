{
  "nbformat": 4,
  "nbformat_minor": 0,
  "metadata": {
    "colab": {
      "name": "BIO310-HW1-KaanGuney.ipynb",
      "provenance": [],
      "collapsed_sections": []
    },
    "kernelspec": {
      "name": "python3",
      "display_name": "Python 3"
    }
  },
  "cells": [
    {
      "cell_type": "markdown",
      "metadata": {
        "id": "M_ucAUQfGKdS",
        "colab_type": "text"
      },
      "source": [
        "# _Name:_ ***Kaan Güney Keklikçi***\n",
        "# _ID:_ ***24986***\n",
        "# _Assignment:_ ***HOMEWORK 1***\n",
        "\n"
      ]
    },
    {
      "cell_type": "markdown",
      "metadata": {
        "id": "fCYmIPBRH1w9",
        "colab_type": "text"
      },
      "source": [
        "***Submission file includes a fasta file and .txt, .ipynb, .pdf, .py extensions.***"
      ]
    },
    {
      "cell_type": "markdown",
      "metadata": {
        "id": "ycJx3-mxGAVc",
        "colab_type": "text"
      },
      "source": [
        "### ***_Part 1 - UniProt: A Protein Database [15 pts.]_***\n",
        "\n",
        "******************************************************\n",
        "> ***1)*** There are ***49,491*** results.\n",
        "\n",
        "> ***2)*** Reviewed Results: ***512*** ***/----------/*** Unreviewed Results: ***48,979***\n",
        "\n",
        "> ***3)*** Reviewed Entry Count (Homo-Sapiens): ***87***\n",
        "\n",
        "> ***4)*** Entry: ***P08100*** ***/----------/*** Length: ***348***\n",
        "\n",
        "> ***5.a)*** Being a photoreceptor required for image-forming vision at low   light intensity is the primary function.\n",
        "\n",
        "> ***5.b)*** Cell type: Rod shaped photoreceptor cells which mediate vision in dim light.\n",
        "Organelles (including rhodopsin): Golgi apparatus, plasma membrane.\n",
        "\n",
        "> ***5.c)*** Diseases (involving rhodopsin): Retinitis pigments 4 (RP4), congenital stationary\n",
        "night blindness."
      ]
    },
    {
      "cell_type": "markdown",
      "metadata": {
        "id": "s54_cEo7KO_N",
        "colab_type": "text"
      },
      "source": [
        "### ***_Part 2 - Calculating Amino Acid Frequencies [35 pts.]_***\n",
        "\n",
        "******************************************************\n",
        "> ***1)*** Fasta file downloaded...\n",
        "\n",
        "> ***2)*** I wrote the fasta file into \"rhodopsin.txt\" (included in the .zip submission file) and wrote my own program without using any external libraries.\n",
        "\n",
        ">> ***->*** You may find the code below which I will extract as .py extensions & include in the .zip submission file.\n",
        "\n",
        "> ***3)***\n",
        "\n",
        ">> ***->*** ***Most Frequent: A, 32 is frequency.***\n",
        "\n",
        ">> ***->*** ***Least Frequent: D, 4 is frequency.***\n",
        "\n",
        ">> ***->*** Please run the code below to see the plot.\n",
        "\n",
        "> ***4)*** Just after the plot, you may see my comments on the comparison regarding UniProt & my analysis. I also added a chart from the internet to visualize the distinctions & similarities."
      ]
    },
    {
      "cell_type": "markdown",
      "metadata": {
        "id": "w3EUrOyXOJon",
        "colab_type": "text"
      },
      "source": [
        "> ### ***!!! _FOR PART 3; please go further in this page, you may see my answers for this part in the section specified further in this notebook explicitly_ !!!***"
      ]
    },
    {
      "cell_type": "code",
      "metadata": {
        "id": "cXfHoOARz3vw",
        "colab_type": "code",
        "outputId": "76bfc33b-b462-4f53-cdb9-3339bcc0f34c",
        "colab": {
          "base_uri": "https://localhost:8080/",
          "height": 122
        }
      },
      "source": [
        "from google.colab import drive \n",
        "drive.mount(\"/content/drive\")"
      ],
      "execution_count": 1,
      "outputs": [
        {
          "output_type": "stream",
          "text": [
            "Go to this URL in a browser: https://accounts.google.com/o/oauth2/auth?client_id=947318989803-6bn6qk8qdgf4n4g3pfee6491hc0brc4i.apps.googleusercontent.com&redirect_uri=urn%3aietf%3awg%3aoauth%3a2.0%3aoob&response_type=code&scope=email%20https%3a%2f%2fwww.googleapis.com%2fauth%2fdocs.test%20https%3a%2f%2fwww.googleapis.com%2fauth%2fdrive%20https%3a%2f%2fwww.googleapis.com%2fauth%2fdrive.photos.readonly%20https%3a%2f%2fwww.googleapis.com%2fauth%2fpeopleapi.readonly\n",
            "\n",
            "Enter your authorization code:\n",
            "··········\n",
            "Mounted at /content/drive\n"
          ],
          "name": "stdout"
        }
      ]
    },
    {
      "cell_type": "code",
      "metadata": {
        "id": "oQ5js_NKz89Z",
        "colab_type": "code",
        "outputId": "5539f778-2210-4b2b-d9cb-a9d7bc068a21",
        "colab": {
          "base_uri": "https://localhost:8080/",
          "height": 34
        }
      },
      "source": [
        "%cd \"/content/drive/My Drive\""
      ],
      "execution_count": 2,
      "outputs": [
        {
          "output_type": "stream",
          "text": [
            "/content/drive/My Drive\n"
          ],
          "name": "stdout"
        }
      ]
    },
    {
      "cell_type": "code",
      "metadata": {
        "id": "95qxsLyGRRjK",
        "colab_type": "code",
        "colab": {}
      },
      "source": [
        "import sys # interpreter to determine maximum and minimum integer values "
      ],
      "execution_count": 0,
      "outputs": []
    },
    {
      "cell_type": "code",
      "metadata": {
        "id": "jeCFUfCQ0I60",
        "colab_type": "code",
        "colab": {}
      },
      "source": [
        "filename = \"rhodopsin.txt\"\n",
        "sequence = []\n",
        "with open(filename, \"r\") as f:\n",
        "  for line in f:\n",
        "    sequence.append(line)\n",
        "  f.close()"
      ],
      "execution_count": 0,
      "outputs": []
    },
    {
      "cell_type": "markdown",
      "metadata": {
        "id": "tTMRO8setoVC",
        "colab_type": "text"
      },
      "source": [
        "### ***_First, read the file and retrieve the amino acid sequence..._***"
      ]
    },
    {
      "cell_type": "code",
      "metadata": {
        "id": "q5XjwqVz0meV",
        "colab_type": "code",
        "outputId": "e2b24f9b-8e25-4eb2-d724-897d969377ce",
        "colab": {
          "base_uri": "https://localhost:8080/",
          "height": 54
        }
      },
      "source": [
        "seq_str = \"\"\n",
        "for i in range(1,7):\n",
        "  seq_str += sequence[i]\n",
        "seq_str = seq_str.replace(\"\\n\",\"\")\n",
        "print(\"Retrieved sequence is %s\" % seq_str)"
      ],
      "execution_count": 5,
      "outputs": [
        {
          "output_type": "stream",
          "text": [
            "Retrieved sequence is MNGTEGPNFYVPFSNATGVVRSPFEYPQYYLAEPWQFSMLAAYMFLLIVLGFPINFLTLYVTVQHKKLRTPLNYILLNLAVADLFMVLGGFTSTLYTSLHGYFVFGPTGCNLEGFFATLGGEIALWSLVVLAIERYVVVCKPMSNFRFGENHAIMGVAFTWVMALACAAPPLAGWSRYIPEGLQCSCGIDYYTLKPEVNNESFVIYMFVVHFTIPMIIIFFCYGQLVFTVKEAAAQQQESATTQKAEKEVTRMVIIMVIAFLICWVPYASVAFYIFTHQGSNFGPIFMTIPAFFAKSAAIYNPVIYIMMNKQFRNCMLTTICCGKNPLGDDEASATVSKTETSQVAPA\n"
          ],
          "name": "stdout"
        }
      ]
    },
    {
      "cell_type": "code",
      "metadata": {
        "id": "nNKie_FE3iwe",
        "colab_type": "code",
        "outputId": "35d4cdb7-c48c-4b9b-e6d8-ed94028bc9c8",
        "colab": {
          "base_uri": "https://localhost:8080/",
          "height": 1000
        }
      },
      "source": [
        "res = []\n",
        "lenseq = len(seq_str)\n",
        "j = 0\n",
        "finish = True\n",
        "while(finish):\n",
        "  holder = seq_str[j]\n",
        "  if(j == lenseq-1):\n",
        "    finish = False\n",
        "  count = seq_str.count(seq_str[j])\n",
        "  print(\"Char is: %s and count is: %s\" % (seq_str[j],count))\n",
        "  res.append([seq_str[j],count])\n",
        "  j+=1\n",
        "\n",
        "# the code prints out the duplicates too, duplicates are omitted while displaying the result in the code just under"
      ],
      "execution_count": 6,
      "outputs": [
        {
          "output_type": "stream",
          "text": [
            "Char is: M and count is: 15\n",
            "Char is: N and count is: 16\n",
            "Char is: G and count is: 22\n",
            "Char is: T and count is: 24\n",
            "Char is: E and count is: 16\n",
            "Char is: G and count is: 22\n",
            "Char is: P and count is: 20\n",
            "Char is: N and count is: 16\n",
            "Char is: F and count is: 30\n",
            "Char is: Y and count is: 19\n",
            "Char is: V and count is: 30\n",
            "Char is: P and count is: 20\n",
            "Char is: F and count is: 30\n",
            "Char is: S and count is: 17\n",
            "Char is: N and count is: 16\n",
            "Char is: A and count is: 32\n",
            "Char is: T and count is: 24\n",
            "Char is: G and count is: 22\n",
            "Char is: V and count is: 30\n",
            "Char is: V and count is: 30\n",
            "Char is: R and count is: 7\n",
            "Char is: S and count is: 17\n",
            "Char is: P and count is: 20\n",
            "Char is: F and count is: 30\n",
            "Char is: E and count is: 16\n",
            "Char is: Y and count is: 19\n",
            "Char is: P and count is: 20\n",
            "Char is: Q and count is: 12\n",
            "Char is: Y and count is: 19\n",
            "Char is: Y and count is: 19\n",
            "Char is: L and count is: 29\n",
            "Char is: A and count is: 32\n",
            "Char is: E and count is: 16\n",
            "Char is: P and count is: 20\n",
            "Char is: W and count is: 5\n",
            "Char is: Q and count is: 12\n",
            "Char is: F and count is: 30\n",
            "Char is: S and count is: 17\n",
            "Char is: M and count is: 15\n",
            "Char is: L and count is: 29\n",
            "Char is: A and count is: 32\n",
            "Char is: A and count is: 32\n",
            "Char is: Y and count is: 19\n",
            "Char is: M and count is: 15\n",
            "Char is: F and count is: 30\n",
            "Char is: L and count is: 29\n",
            "Char is: L and count is: 29\n",
            "Char is: I and count is: 24\n",
            "Char is: V and count is: 30\n",
            "Char is: L and count is: 29\n",
            "Char is: G and count is: 22\n",
            "Char is: F and count is: 30\n",
            "Char is: P and count is: 20\n",
            "Char is: I and count is: 24\n",
            "Char is: N and count is: 16\n",
            "Char is: F and count is: 30\n",
            "Char is: L and count is: 29\n",
            "Char is: T and count is: 24\n",
            "Char is: L and count is: 29\n",
            "Char is: Y and count is: 19\n",
            "Char is: V and count is: 30\n",
            "Char is: T and count is: 24\n",
            "Char is: V and count is: 30\n",
            "Char is: Q and count is: 12\n",
            "Char is: H and count is: 5\n",
            "Char is: K and count is: 11\n",
            "Char is: K and count is: 11\n",
            "Char is: L and count is: 29\n",
            "Char is: R and count is: 7\n",
            "Char is: T and count is: 24\n",
            "Char is: P and count is: 20\n",
            "Char is: L and count is: 29\n",
            "Char is: N and count is: 16\n",
            "Char is: Y and count is: 19\n",
            "Char is: I and count is: 24\n",
            "Char is: L and count is: 29\n",
            "Char is: L and count is: 29\n",
            "Char is: N and count is: 16\n",
            "Char is: L and count is: 29\n",
            "Char is: A and count is: 32\n",
            "Char is: V and count is: 30\n",
            "Char is: A and count is: 32\n",
            "Char is: D and count is: 4\n",
            "Char is: L and count is: 29\n",
            "Char is: F and count is: 30\n",
            "Char is: M and count is: 15\n",
            "Char is: V and count is: 30\n",
            "Char is: L and count is: 29\n",
            "Char is: G and count is: 22\n",
            "Char is: G and count is: 22\n",
            "Char is: F and count is: 30\n",
            "Char is: T and count is: 24\n",
            "Char is: S and count is: 17\n",
            "Char is: T and count is: 24\n",
            "Char is: L and count is: 29\n",
            "Char is: Y and count is: 19\n",
            "Char is: T and count is: 24\n",
            "Char is: S and count is: 17\n",
            "Char is: L and count is: 29\n",
            "Char is: H and count is: 5\n",
            "Char is: G and count is: 22\n",
            "Char is: Y and count is: 19\n",
            "Char is: F and count is: 30\n",
            "Char is: V and count is: 30\n",
            "Char is: F and count is: 30\n",
            "Char is: G and count is: 22\n",
            "Char is: P and count is: 20\n",
            "Char is: T and count is: 24\n",
            "Char is: G and count is: 22\n",
            "Char is: C and count is: 10\n",
            "Char is: N and count is: 16\n",
            "Char is: L and count is: 29\n",
            "Char is: E and count is: 16\n",
            "Char is: G and count is: 22\n",
            "Char is: F and count is: 30\n",
            "Char is: F and count is: 30\n",
            "Char is: A and count is: 32\n",
            "Char is: T and count is: 24\n",
            "Char is: L and count is: 29\n",
            "Char is: G and count is: 22\n",
            "Char is: G and count is: 22\n",
            "Char is: E and count is: 16\n",
            "Char is: I and count is: 24\n",
            "Char is: A and count is: 32\n",
            "Char is: L and count is: 29\n",
            "Char is: W and count is: 5\n",
            "Char is: S and count is: 17\n",
            "Char is: L and count is: 29\n",
            "Char is: V and count is: 30\n",
            "Char is: V and count is: 30\n",
            "Char is: L and count is: 29\n",
            "Char is: A and count is: 32\n",
            "Char is: I and count is: 24\n",
            "Char is: E and count is: 16\n",
            "Char is: R and count is: 7\n",
            "Char is: Y and count is: 19\n",
            "Char is: V and count is: 30\n",
            "Char is: V and count is: 30\n",
            "Char is: V and count is: 30\n",
            "Char is: C and count is: 10\n",
            "Char is: K and count is: 11\n",
            "Char is: P and count is: 20\n",
            "Char is: M and count is: 15\n",
            "Char is: S and count is: 17\n",
            "Char is: N and count is: 16\n",
            "Char is: F and count is: 30\n",
            "Char is: R and count is: 7\n",
            "Char is: F and count is: 30\n",
            "Char is: G and count is: 22\n",
            "Char is: E and count is: 16\n",
            "Char is: N and count is: 16\n",
            "Char is: H and count is: 5\n",
            "Char is: A and count is: 32\n",
            "Char is: I and count is: 24\n",
            "Char is: M and count is: 15\n",
            "Char is: G and count is: 22\n",
            "Char is: V and count is: 30\n",
            "Char is: A and count is: 32\n",
            "Char is: F and count is: 30\n",
            "Char is: T and count is: 24\n",
            "Char is: W and count is: 5\n",
            "Char is: V and count is: 30\n",
            "Char is: M and count is: 15\n",
            "Char is: A and count is: 32\n",
            "Char is: L and count is: 29\n",
            "Char is: A and count is: 32\n",
            "Char is: C and count is: 10\n",
            "Char is: A and count is: 32\n",
            "Char is: A and count is: 32\n",
            "Char is: P and count is: 20\n",
            "Char is: P and count is: 20\n",
            "Char is: L and count is: 29\n",
            "Char is: A and count is: 32\n",
            "Char is: G and count is: 22\n",
            "Char is: W and count is: 5\n",
            "Char is: S and count is: 17\n",
            "Char is: R and count is: 7\n",
            "Char is: Y and count is: 19\n",
            "Char is: I and count is: 24\n",
            "Char is: P and count is: 20\n",
            "Char is: E and count is: 16\n",
            "Char is: G and count is: 22\n",
            "Char is: L and count is: 29\n",
            "Char is: Q and count is: 12\n",
            "Char is: C and count is: 10\n",
            "Char is: S and count is: 17\n",
            "Char is: C and count is: 10\n",
            "Char is: G and count is: 22\n",
            "Char is: I and count is: 24\n",
            "Char is: D and count is: 4\n",
            "Char is: Y and count is: 19\n",
            "Char is: Y and count is: 19\n",
            "Char is: T and count is: 24\n",
            "Char is: L and count is: 29\n",
            "Char is: K and count is: 11\n",
            "Char is: P and count is: 20\n",
            "Char is: E and count is: 16\n",
            "Char is: V and count is: 30\n",
            "Char is: N and count is: 16\n",
            "Char is: N and count is: 16\n",
            "Char is: E and count is: 16\n",
            "Char is: S and count is: 17\n",
            "Char is: F and count is: 30\n",
            "Char is: V and count is: 30\n",
            "Char is: I and count is: 24\n",
            "Char is: Y and count is: 19\n",
            "Char is: M and count is: 15\n",
            "Char is: F and count is: 30\n",
            "Char is: V and count is: 30\n",
            "Char is: V and count is: 30\n",
            "Char is: H and count is: 5\n",
            "Char is: F and count is: 30\n",
            "Char is: T and count is: 24\n",
            "Char is: I and count is: 24\n",
            "Char is: P and count is: 20\n",
            "Char is: M and count is: 15\n",
            "Char is: I and count is: 24\n",
            "Char is: I and count is: 24\n",
            "Char is: I and count is: 24\n",
            "Char is: F and count is: 30\n",
            "Char is: F and count is: 30\n",
            "Char is: C and count is: 10\n",
            "Char is: Y and count is: 19\n",
            "Char is: G and count is: 22\n",
            "Char is: Q and count is: 12\n",
            "Char is: L and count is: 29\n",
            "Char is: V and count is: 30\n",
            "Char is: F and count is: 30\n",
            "Char is: T and count is: 24\n",
            "Char is: V and count is: 30\n",
            "Char is: K and count is: 11\n",
            "Char is: E and count is: 16\n",
            "Char is: A and count is: 32\n",
            "Char is: A and count is: 32\n",
            "Char is: A and count is: 32\n",
            "Char is: Q and count is: 12\n",
            "Char is: Q and count is: 12\n",
            "Char is: Q and count is: 12\n",
            "Char is: E and count is: 16\n",
            "Char is: S and count is: 17\n",
            "Char is: A and count is: 32\n",
            "Char is: T and count is: 24\n",
            "Char is: T and count is: 24\n",
            "Char is: Q and count is: 12\n",
            "Char is: K and count is: 11\n",
            "Char is: A and count is: 32\n",
            "Char is: E and count is: 16\n",
            "Char is: K and count is: 11\n",
            "Char is: E and count is: 16\n",
            "Char is: V and count is: 30\n",
            "Char is: T and count is: 24\n",
            "Char is: R and count is: 7\n",
            "Char is: M and count is: 15\n",
            "Char is: V and count is: 30\n",
            "Char is: I and count is: 24\n",
            "Char is: I and count is: 24\n",
            "Char is: M and count is: 15\n",
            "Char is: V and count is: 30\n",
            "Char is: I and count is: 24\n",
            "Char is: A and count is: 32\n",
            "Char is: F and count is: 30\n",
            "Char is: L and count is: 29\n",
            "Char is: I and count is: 24\n",
            "Char is: C and count is: 10\n",
            "Char is: W and count is: 5\n",
            "Char is: V and count is: 30\n",
            "Char is: P and count is: 20\n",
            "Char is: Y and count is: 19\n",
            "Char is: A and count is: 32\n",
            "Char is: S and count is: 17\n",
            "Char is: V and count is: 30\n",
            "Char is: A and count is: 32\n",
            "Char is: F and count is: 30\n",
            "Char is: Y and count is: 19\n",
            "Char is: I and count is: 24\n",
            "Char is: F and count is: 30\n",
            "Char is: T and count is: 24\n",
            "Char is: H and count is: 5\n",
            "Char is: Q and count is: 12\n",
            "Char is: G and count is: 22\n",
            "Char is: S and count is: 17\n",
            "Char is: N and count is: 16\n",
            "Char is: F and count is: 30\n",
            "Char is: G and count is: 22\n",
            "Char is: P and count is: 20\n",
            "Char is: I and count is: 24\n",
            "Char is: F and count is: 30\n",
            "Char is: M and count is: 15\n",
            "Char is: T and count is: 24\n",
            "Char is: I and count is: 24\n",
            "Char is: P and count is: 20\n",
            "Char is: A and count is: 32\n",
            "Char is: F and count is: 30\n",
            "Char is: F and count is: 30\n",
            "Char is: A and count is: 32\n",
            "Char is: K and count is: 11\n",
            "Char is: S and count is: 17\n",
            "Char is: A and count is: 32\n",
            "Char is: A and count is: 32\n",
            "Char is: I and count is: 24\n",
            "Char is: Y and count is: 19\n",
            "Char is: N and count is: 16\n",
            "Char is: P and count is: 20\n",
            "Char is: V and count is: 30\n",
            "Char is: I and count is: 24\n",
            "Char is: Y and count is: 19\n",
            "Char is: I and count is: 24\n",
            "Char is: M and count is: 15\n",
            "Char is: M and count is: 15\n",
            "Char is: N and count is: 16\n",
            "Char is: K and count is: 11\n",
            "Char is: Q and count is: 12\n",
            "Char is: F and count is: 30\n",
            "Char is: R and count is: 7\n",
            "Char is: N and count is: 16\n",
            "Char is: C and count is: 10\n",
            "Char is: M and count is: 15\n",
            "Char is: L and count is: 29\n",
            "Char is: T and count is: 24\n",
            "Char is: T and count is: 24\n",
            "Char is: I and count is: 24\n",
            "Char is: C and count is: 10\n",
            "Char is: C and count is: 10\n",
            "Char is: G and count is: 22\n",
            "Char is: K and count is: 11\n",
            "Char is: N and count is: 16\n",
            "Char is: P and count is: 20\n",
            "Char is: L and count is: 29\n",
            "Char is: G and count is: 22\n",
            "Char is: D and count is: 4\n",
            "Char is: D and count is: 4\n",
            "Char is: E and count is: 16\n",
            "Char is: A and count is: 32\n",
            "Char is: S and count is: 17\n",
            "Char is: A and count is: 32\n",
            "Char is: T and count is: 24\n",
            "Char is: V and count is: 30\n",
            "Char is: S and count is: 17\n",
            "Char is: K and count is: 11\n",
            "Char is: T and count is: 24\n",
            "Char is: E and count is: 16\n",
            "Char is: T and count is: 24\n",
            "Char is: S and count is: 17\n",
            "Char is: Q and count is: 12\n",
            "Char is: V and count is: 30\n",
            "Char is: A and count is: 32\n",
            "Char is: P and count is: 20\n",
            "Char is: A and count is: 32\n"
          ],
          "name": "stdout"
        }
      ]
    },
    {
      "cell_type": "code",
      "metadata": {
        "id": "vojs4V3v_Hpn",
        "colab_type": "code",
        "outputId": "6555aa3f-97f9-4b04-fa1b-3e9aed8e6562",
        "colab": {
          "base_uri": "https://localhost:8080/",
          "height": 357
        }
      },
      "source": [
        "# remove the duplicates from my list by creating another list and return it, purify the list\n",
        "\n",
        "def Remove(duplicate): \n",
        "    final_list = [] \n",
        "    for num in duplicate: \n",
        "        if num not in final_list: \n",
        "            final_list.append(num) \n",
        "    return final_list \n",
        "\n",
        "final_res = Remove(res) # finally the frequencies \n",
        "\n",
        "for j in range(len(final_res)):\n",
        "  print(\"Amino Acid: %s    Frequency: %s\" % (final_res[j][0],final_res[j][1]))"
      ],
      "execution_count": 7,
      "outputs": [
        {
          "output_type": "stream",
          "text": [
            "Amino Acid: M    Frequency: 15\n",
            "Amino Acid: N    Frequency: 16\n",
            "Amino Acid: G    Frequency: 22\n",
            "Amino Acid: T    Frequency: 24\n",
            "Amino Acid: E    Frequency: 16\n",
            "Amino Acid: P    Frequency: 20\n",
            "Amino Acid: F    Frequency: 30\n",
            "Amino Acid: Y    Frequency: 19\n",
            "Amino Acid: V    Frequency: 30\n",
            "Amino Acid: S    Frequency: 17\n",
            "Amino Acid: A    Frequency: 32\n",
            "Amino Acid: R    Frequency: 7\n",
            "Amino Acid: Q    Frequency: 12\n",
            "Amino Acid: L    Frequency: 29\n",
            "Amino Acid: W    Frequency: 5\n",
            "Amino Acid: I    Frequency: 24\n",
            "Amino Acid: H    Frequency: 5\n",
            "Amino Acid: K    Frequency: 11\n",
            "Amino Acid: D    Frequency: 4\n",
            "Amino Acid: C    Frequency: 10\n"
          ],
          "name": "stdout"
        }
      ]
    },
    {
      "cell_type": "markdown",
      "metadata": {
        "id": "EJpjK8hYtNuk",
        "colab_type": "text"
      },
      "source": [
        "### ***_Now, obtaining the final results on the most & least frequent amino acids observed in rhodopsin..._***\n"
      ]
    },
    {
      "cell_type": "code",
      "metadata": {
        "id": "PzzC4BYzA4eB",
        "colab_type": "code",
        "outputId": "10e1e961-90d9-4e1a-dd4e-36d421de3537",
        "colab": {
          "base_uri": "https://localhost:8080/",
          "height": 51
        }
      },
      "source": [
        "# inputs the (amino acid,frequency) tuples and returns the minimum frequency\n",
        "def min_frequency(results):\n",
        "  minimum = sys.maxsize # dummy \n",
        "  freqlen = len(results)\n",
        "  index = -42 # dummy\n",
        "  for j in range(freqlen):\n",
        "    if(minimum > results[j][1]):\n",
        "      minimum = results[j][1]\n",
        "      index = j\n",
        "  return results[index][0],minimum\n",
        "\n",
        "# inputs the (amino acid,frequency) tuples and returns the maximum frequency\n",
        "def most_frequency(results):\n",
        "  maximum = -sys.maxsize # dummy \n",
        "  freqlen = len(results)\n",
        "  index = -42 # dummy\n",
        "  for j in range(freqlen):\n",
        "    if(maximum < results[j][1]):\n",
        "      maximum = results[j][1]\n",
        "      index = j\n",
        "  return results[index][0],maximum\n",
        "\n",
        "# get the results\n",
        "max_freq_aa, freq_of_max = most_frequency(final_res)\n",
        "min_freq_aa, freq_of_min = min_frequency(final_res)\n",
        "print(\"Maximum occurring amino acid (Rhodopsin): %s     Frequency (Rhodopsin): %s\" % (max_freq_aa,freq_of_max))\n",
        "print(\"Minimum occurring amino acid (Rhodopsin): %s     Frequency (Rhodopsin): %s\" % (min_freq_aa,freq_of_min))"
      ],
      "execution_count": 8,
      "outputs": [
        {
          "output_type": "stream",
          "text": [
            "Maximum occurring amino acid (Rhodopsin): A     Frequency (Rhodopsin): 32\n",
            "Minimum occurring amino acid (Rhodopsin): D     Frequency (Rhodopsin): 4\n"
          ],
          "name": "stdout"
        }
      ]
    },
    {
      "cell_type": "markdown",
      "metadata": {
        "id": "i9LhONE6t-LV",
        "colab_type": "text"
      },
      "source": [
        "### ***_Calculate the percentages of amino acid frequencies, inspect and comment on the distribution after comparing the rhodopsin plot with Uniprot data..._***"
      ]
    },
    {
      "cell_type": "code",
      "metadata": {
        "id": "i1WN7164UBRV",
        "colab_type": "code",
        "colab": {}
      },
      "source": [
        "# inputs results and the sequence; writes the percentages for a bar graph\n",
        "aa_percentages = [] # is a matrix of index0 = amino acid, index1 = percentage\n",
        "def percentages(final_res,aa_percentages,seq_str):\n",
        "  lenseq = len(seq_str)\n",
        "  percent = 0 # dummy \n",
        "  lenres = len(final_res)\n",
        "  for k in range(lenres):\n",
        "    percent = final_res[k][1] / lenseq\n",
        "    aa_percentages.append([final_res[k][0],percent])\n",
        "  return aa_percentages\n",
        "\n",
        "# result\n",
        "plot_data = percentages(final_res,aa_percentages,seq_str)\n",
        "\n",
        "# adjust both x-axis & y-axis\n",
        "plot_data_Y = sorted([plot_data[k][1] for k in range(len(plot_data))],reverse=True) # in decreasing order\n",
        "plot_data_X = []\n",
        "lendata = len(plot_data)\n",
        "holder = -42 # dummy \n",
        "loop = True # condition\n",
        "while(loop):\n",
        "  for k in range(lendata):\n",
        "    holder = plot_data_Y[k]\n",
        "    for j in range(lendata):\n",
        "      if(holder == plot_data[j][1]):\n",
        "        plot_data_X.append(plot_data[j][0]) # add the key\n",
        "        loop = False\n",
        "        \n",
        "# remove duplicate keys\n",
        "plot_data_X = Remove(plot_data_X)"
      ],
      "execution_count": 0,
      "outputs": []
    },
    {
      "cell_type": "markdown",
      "metadata": {
        "id": "qozsoSNbt9Sm",
        "colab_type": "text"
      },
      "source": [
        "### ***_Plotting the amino acid frequency for rhodopsin percentage-wise..._***"
      ]
    },
    {
      "cell_type": "code",
      "metadata": {
        "id": "3Y8q_WU1zw2s",
        "colab_type": "code",
        "colab": {}
      },
      "source": [
        "# convert floats to percents for Uniprot table-view\n",
        "def convert(y_axis):\n",
        "  new_y_axis = []\n",
        "  temp = -42 # dummy\n",
        "  for y in y_axis:\n",
        "    temp = y*100\n",
        "    new_y_axis.append(temp)\n",
        "  return new_y_axis\n",
        "plot_data_Y = convert(plot_data_Y)"
      ],
      "execution_count": 0,
      "outputs": []
    },
    {
      "cell_type": "code",
      "metadata": {
        "id": "d7TmMgD1YlkX",
        "colab_type": "code",
        "outputId": "d278bb65-14c4-468c-8929-4d2187ed23bf",
        "colab": {
          "base_uri": "https://localhost:8080/",
          "height": 522
        }
      },
      "source": [
        "# create a bar chart for frequency & amino acid pairs \n",
        "import matplotlib.pyplot as plt \n",
        "fig,ax = plt.subplots(1,figsize = (15,8))\n",
        "barchart = plt.bar(plot_data_X,plot_data_Y,width = 0.3)\n",
        "barchart[0].set_color(\"g\")\n",
        "barchart[len(barchart)-1].set_color(\"r\")\n",
        "fig.text(0.5,0.05, \"Amino Acid Composition\", ha=\"center\", va=\"center\", fontsize=20,fontweight=\"bold\")\n",
        "fig.text(0.07,0.5, \"% Frequency\", ha=\"center\", va=\"center\", rotation=90, fontsize=20,fontweight=\"bold\")\n",
        "plt.legend(handles = [barchart[0],barchart[len(barchart)-1]],labels = [\"Most Frequent (A)\",\"Least Frequent (D)\"],fontsize = 15)\n",
        "plt.yticks([i for i in range(0,11,2)])\n",
        "plt.show()"
      ],
      "execution_count": 11,
      "outputs": [
        {
          "output_type": "display_data",
          "data": {
            "image/png": "[encoded data removed]",
            "text/plain": [
              "<Figure size 1080x576 with 1 Axes>"
            ]
          },
          "metadata": {
            "tags": []
          }
        }
      ]
    },
    {
      "cell_type": "markdown",
      "metadata": {
        "id": "yJXGxfuNwHBE",
        "colab_type": "text"
      },
      "source": [
        "### ***_Record the results into a .txt extension file..._***"
      ]
    },
    {
      "cell_type": "code",
      "metadata": {
        "id": "pg290Skx1FRy",
        "colab_type": "code",
        "colab": {}
      },
      "source": [
        "# write the results into the .txt extension file\n",
        "filename = \"P08100_aaCount.txt\"\n",
        "with open(filename,\"w+\") as f:\n",
        "  f.write(\"\\t*** Rhodopsin Frequency Analysis ***\\n\\n\")\n",
        "  for k in range(len(plot_data)):\n",
        "    f.write(\"Amino acid: %s     Frequency: %s\\n\" % (plot_data_X[k],plot_data_Y[k]))\n",
        "  f.close()"
      ],
      "execution_count": 0,
      "outputs": []
    },
    {
      "cell_type": "markdown",
      "metadata": {
        "id": "wiCJM-8BwRrx",
        "colab_type": "text"
      },
      "source": [
        "### ***_Now, let's have a look at the UniProt distribution..._***"
      ]
    },
    {
      "cell_type": "markdown",
      "metadata": {
        "id": "Vnu4DLdXzTou",
        "colab_type": "text"
      },
      "source": [
        "![alt text](https://drive.google.com/uc?id=1lgUGyw7fmIPDuyMPH2uQvKtIVXKEVtZ1)"
      ]
    },
    {
      "cell_type": "markdown",
      "metadata": {
        "id": "JqwB_-YW02LO",
        "colab_type": "text"
      },
      "source": [
        "### ***_Results after the comparison: ..._***\n",
        "- Looking at both graphs, they follow a similar distribution. However, in terms of amino acid composition, they also have their differences.\n",
        "  - Most frequent is Leucine for the Uniprot data whereas the most frequent one is Alanine considering \"rhodopsin.txt\".\n",
        "  - Least frequent is Cysteine for the Uniprot data whereas the least frequent one is Aspartic Acid considering \"rhodopsin.txt\".\n",
        "- However, in both graphs; the bars in the middle stand around at 6%, with the max percentage around 9% and min percentage around 2%.\n",
        "******************************************************\n",
        "### ***_SUMMARY :_***\n",
        "> ***1)*** Frequency distributions are alike.\n",
        "\n",
        "> ***2)*** Individual amino acid percentages, therefore, amino acid composition is different."
      ]
    },
    {
      "cell_type": "markdown",
      "metadata": {
        "id": "9YgNKg18OxOh",
        "colab_type": "text"
      },
      "source": [
        "### ***_Part 3 - Plotting an Hydropathy Plot [50 pts.]_***"
      ]
    },
    {
      "cell_type": "markdown",
      "metadata": {
        "id": "olsJg_m8lNcH",
        "colab_type": "text"
      },
      "source": [
        "> ***_Section Info (Implementation Explanation):_***\n",
        "\n",
        ">> ***1)*** \n",
        "\n",
        ">>> _I followed the link in the homework .pdf extension, stored the hydropathy scores in \"hydropathy_scores.txt\" for conventional purposes._\n",
        "\n",
        ">>> _The code runs as described in the homework document & generates the following graphs.I will also upload the .py extensions but .ipynb is better visualization for my answers._\n",
        "\n",
        ">> ***2)***  \n",
        "\n",
        ">>> ***-> Comments:*** \n",
        "\n",
        ">>>> _Naturally, when FrameSize = 5, combination count is more compared to FrameSize = 20._\n",
        "\n",
        ">>>> _There are more jumps in FrameSize = 5._\n",
        "\n",
        ">>>> _Kyte-Doolittle max-score is higher in FrameSize = 5._\n",
        "\n",
        ">>>> _Kyte-Doolittle min-score is lower in FrameSize = 5._\n",
        "\n",
        ">>>>> ***!!! _BOTH OF THE ABOVE IMPLY THAT SCORE RANGE IS HIGHER IN FRAMESIZE = 5_ !!!***\n",
        "\n",
        ">> ***3)***  \n",
        "\n",
        ">>> ***-> I went over the Topology section in the Uniprot data and my observations & expalanations for my analogy in this question are as follows:***\n",
        "\n",
        ">>> ***Note:*** _You may find the reference code & analysis under this section.My work below indicates how I reached my conclusions._ \n",
        "\n",
        ">>>> _Start and end points of transmembrane helices correspond to the spike regions observed in the hydropathy plot of FrameSize = 20. ***To be more specific, the intervals listed below all include the noticable jumps in the hydropathy plot(20):***_\n",
        "\n",
        ">>>>> _Helice 1 Position Interval: ***37 – 61***\n",
        "\n",
        ">>>>> _Helice 2 Position Interval: ***74 – 96***\n",
        "\n",
        ">>>>> _Helice 3 Position Interval: ***111 – 133***\n",
        "\n",
        ">>>>> _Helice 4 Position Interval: ***153 - 173***\n",
        "\n",
        ">>>>> _Helice 5 Position Interval: ***203 - 224***\n",
        "\n",
        ">>>>> _Helice 6 Position Interval: ***253 - 274***\n",
        "\n",
        ">>>>> _Helice 7 Position Interval: ***285 - 309***"
      ]
    },
    {
      "cell_type": "code",
      "metadata": {
        "id": "5jOloGvjlQ9h",
        "colab_type": "code",
        "colab": {
          "base_uri": "https://localhost:8080/",
          "height": 1000
        },
        "outputId": "d7f391ad-68bf-4884-e5c3-836766be3a86"
      },
      "source": [
        "# I followed the link in the homework .pdf extension, stored the hydropathy scores in \"hydropathy_scores.txt\" for conventional purposes\n",
        "\n",
        "print(\"Retrieving data from hydropathy_scores.txt\\n\")\n",
        "hydropathy_scores = {} # key = amino acid, value = hyhropathy_score\n",
        "\n",
        "with open(\"hydropathy_scores.txt\",\"r\") as f:\n",
        "  # first line is unnecessary info, count the lines and discard the first line \n",
        "  info = f.readlines()\n",
        "  temp = \"\" # temporary str holder\n",
        "  container = [] # temporary container\n",
        "  letter = \"\"\n",
        "  score = \"\"\n",
        "  for k in range(1,len(info)):\n",
        "    temp = info[k]\n",
        "    temp = temp.replace(\"\\n\",\"\")\n",
        "    container = temp.split(\" -> \")\n",
        "    letter = container[0]\n",
        "    score = container[1]\n",
        "    # check if negative...\n",
        "    if(\"-\" in score): \n",
        "      score = score.replace(\"-\",\"\")\n",
        "      score = float(score)\n",
        "      score *= -1\n",
        "    else:\n",
        "      score = float(score)\n",
        "    hydropathy_scores[letter] = score\n",
        "  f.close()\n",
        "\n",
        "# display letters & hydropathy scores \n",
        "count = 0\n",
        "for letter,score in hydropathy_scores.items():\n",
        "  print(\"Letter: %s   Score: %s\" % (letter,score))\n",
        "  count += 1\n",
        "  # after the last line, put some space & go on, looks better\n",
        "  if(count == 20): \n",
        "    print(\"\\n\")\n",
        "\n",
        "# recall retrieved amino acid sequence first \n",
        "print(\"Hydropathy Calculator start...\\n\")\n",
        "print(\"Input sequence: %s\" % seq_str)\n",
        "\n",
        "# set the initial window size as 5\n",
        "frame_size = 5\n",
        "frame_avg = -0.0\n",
        "frame_total = 0.0\n",
        "print(\"Frame Size: %s\" % frame_size)\n",
        "position = [] # x-axis of the plot\n",
        "hydropathy = [] # y-axis of the plot\n",
        "\n",
        "# returns the corresponding letter score\n",
        "def get_letter_score(letter, hydropathy_scores):\n",
        "  searched = -42 # dummy\n",
        "  for key,value in hydropathy_scores.items():\n",
        "    if(key == letter):\n",
        "      searched = value\n",
        "      break\n",
        "  return searched\n",
        "\n",
        "# iterate the frame over the sequence\n",
        "# store the position of the amino acid & average \n",
        "terminate = True # control the flow of the loop\n",
        "index = 0 # iterative\n",
        "while(terminate):\n",
        "  # terminate if exceeding indexes\n",
        "  if((index + frame_size) > len(seq_str)-1):\n",
        "    print(\"The remaining sequence is: %s \" % seq_str[index:len(seq_str)])\n",
        "    terminate = False \n",
        "  interval = seq_str[index:index+frame_size]\n",
        "  for letter in interval:\n",
        "    frame_total += get_letter_score(letter,hydropathy_scores)\n",
        "  # add results\n",
        "  frame_avg = frame_total / frame_size\n",
        "  hydropathy.append(frame_avg)\n",
        "  position.append(index+2) # the middle specifies the position of the frame\n",
        "  # shift the index\n",
        "  index += 1 \n",
        "  # reset\n",
        "  frame_avg = 0.0\n",
        "  frame_total = 0.0\n",
        "\n",
        "# add the last frame\n",
        "print(\"Remaining sequence scanned and added to the plot data...\")\n",
        "rem_interval = seq_str[index:len(seq_str)]\n",
        "for letter in interval:\n",
        "    frame_total += get_letter_score(letter,hydropathy_scores)\n",
        "# add results\n",
        "frame_avg = frame_total / frame_size\n",
        "position.append(index+2) # the middle specifies the position of the frame\n",
        "hydropathy.append(frame_avg)\n",
        "# reset all \n",
        "frame_avg = 0.0\n",
        "frame_total = 0.0\n",
        "index = 0 \n",
        "\n",
        "print(\"Plotting the hydropathy plot for FrameSize = 5... (LINE CODE = BLUE)\")\n",
        "print(\"Creating the figure...\")\n",
        "import matplotlib.pyplot as plt\n",
        "fig = plt.figure()\n",
        "fig,ax = plt.subplots(1,figsize = (15,8))\n",
        "plt.plot(position,hydropathy)\n",
        "fig.text(0.5,0.05, \"Frame Position\", ha=\"center\", va=\"center\", fontsize=20,fontweight=\"bold\")\n",
        "fig.text(0.07,0.5, \"Hydropathy Score\", ha=\"center\", va=\"center\", rotation=90, fontsize=20,fontweight=\"bold\")\n",
        "plt.show()\n",
        "\n",
        "# repeating the hydropathy plot for frame size of 20 \n",
        "frame_size = 20 \n",
        "# reset axis-x,axis-y\n",
        "position = []\n",
        "hydropathy = []\n",
        "\n",
        "# iterate the frame over the sequence\n",
        "# store the position of the amino acid & average \n",
        "terminate = True # control the flow of the loop\n",
        "index = 0 # iterative\n",
        "while(terminate):\n",
        "  # terminate if exceeding indexes\n",
        "  if((index + frame_size) > len(seq_str)-1):\n",
        "    terminate = False \n",
        "  interval = seq_str[index:index+frame_size]\n",
        "  for letter in interval:\n",
        "    frame_total += get_letter_score(letter,hydropathy_scores)\n",
        "  # add results\n",
        "  frame_avg = frame_total / frame_size\n",
        "  hydropathy.append(frame_avg)\n",
        "  position.append(index+2) # the middle specifies the position of the frame\n",
        "  # shift the index\n",
        "  index += 1 \n",
        "  # reset\n",
        "  frame_avg = 0.0\n",
        "  frame_total = 0.0\n",
        "\n",
        "# add the last frame\n",
        "rem_interval = seq_str[index:len(seq_str)]\n",
        "for letter in interval:\n",
        "    frame_total += get_letter_score(letter,hydropathy_scores)\n",
        "# add results\n",
        "frame_avg = frame_total / frame_size\n",
        "position.append(index+2) # the middle specifies the position of the frame\n",
        "hydropathy.append(frame_avg)\n",
        "# reset all \n",
        "frame_avg = 0.0\n",
        "frame_total = 0.0\n",
        "index = 0 \n",
        "print(\"\\nPlotting the hydropathy plot for FrameSize = 20... (LINE CODE = GREEN)\")\n",
        "print(\"Creating the figure...\")\n",
        "fig = plt.figure()\n",
        "fig,ax = plt.subplots(1,figsize = (15,8))\n",
        "plt.plot(position,hydropathy,\"tab:green\")\n",
        "fig.text(0.5,0.05, \"Frame Position\", ha=\"center\", va=\"center\", fontsize=20,fontweight=\"bold\")\n",
        "fig.text(0.07,0.5, \"Hydropathy Score\", ha=\"center\", va=\"center\", rotation=90, fontsize=20,fontweight=\"bold\")\n",
        "plt.show()\n",
        "\n",
        "# end program\n",
        "print(\"Hydropathy Calculator end...\")"
      ],
      "execution_count": 95,
      "outputs": [
        {
          "output_type": "stream",
          "text": [
            "Retrieving data from hydropathy_scores.txt\n",
            "\n",
            "Letter: I   Score: 4.5\n",
            "Letter: V   Score: 4.2\n",
            "Letter: L   Score: 3.8\n",
            "Letter: F   Score: 2.8\n",
            "Letter: C   Score: 2.5\n",
            "Letter: M   Score: 1.9\n",
            "Letter: A   Score: 1.8\n",
            "Letter: G   Score: -0.4\n",
            "Letter: T   Score: -0.7\n",
            "Letter: W   Score: -0.9\n",
            "Letter: S   Score: -0.8\n",
            "Letter: Y   Score: -1.3\n",
            "Letter: P   Score: -1.6\n",
            "Letter: H   Score: -3.2\n",
            "Letter: E   Score: -3.5\n",
            "Letter: Q   Score: -3.5\n",
            "Letter: D   Score: -3.5\n",
            "Letter: N   Score: -3.5\n",
            "Letter: K   Score: -3.9\n",
            "Letter: R   Score: -4.5\n",
            "\n",
            "\n",
            "Hydropathy Calculator start...\n",
            "\n",
            "Input sequence: MNGTEGPNFYVPFSNATGVVRSPFEYPQYYLAEPWQFSMLAAYMFLLIVLGFPINFLTLYVTVQHKKLRTPLNYILLNLAVADLFMVLGGFTSTLYTSLHGYFVFGPTGCNLEGFFATLGGEIALWSLVVLAIERYVVVCKPMSNFRFGENHAIMGVAFTWVMALACAAPPLAGWSRYIPEGLQCSCGIDYYTLKPEVNNESFVIYMFVVHFTIPMIIIFFCYGQLVFTVKEAAAQQQESATTQKAEKEVTRMVIIMVIAFLICWVPYASVAFYIFTHQGSNFGPIFMTIPAFFAKSAAIYNPVIYIMMNKQFRNCMLTTICCGKNPLGDDEASATVSKTETSQVAPA\n",
            "Frame Size: 5\n",
            "The remaining sequence is: QVAPA \n",
            "Remaining sequence scanned and added to the plot data...\n",
            "Plotting the hydropathy plot for FrameSize = 5... (LINE CODE = BLUE)\n",
            "Creating the figure...\n"
          ],
          "name": "stdout"
        },
        {
          "output_type": "display_data",
          "data": {
            "text/plain": [
              "<Figure size 432x288 with 0 Axes>"
            ]
          },
          "metadata": {
            "tags": []
          }
        },
        {
          "output_type": "display_data",
          "data": {
            "image/png": "[encoded data removed]",
            "text/plain": [
              "<Figure size 1080x576 with 1 Axes>"
            ]
          },
          "metadata": {
            "tags": []
          }
        },
        {
          "output_type": "stream",
          "text": [
            "\n",
            "Plotting the hydropathy plot for FrameSize = 20... (LINE CODE = GREEN)\n",
            "Creating the figure...\n"
          ],
          "name": "stdout"
        },
        {
          "output_type": "display_data",
          "data": {
            "text/plain": [
              "<Figure size 432x288 with 0 Axes>"
            ]
          },
          "metadata": {
            "tags": []
          }
        },
        {
          "output_type": "display_data",
          "data": {
            "image/png": "[encoded data removed]",
            "text/plain": [
              "<Figure size 1080x576 with 1 Axes>"
            ]
          },
          "metadata": {
            "tags": []
          }
        },
        {
          "output_type": "stream",
          "text": [
            "Hydropathy Calculator end...\n"
          ],
          "name": "stdout"
        }
      ]
    }
  ]
}