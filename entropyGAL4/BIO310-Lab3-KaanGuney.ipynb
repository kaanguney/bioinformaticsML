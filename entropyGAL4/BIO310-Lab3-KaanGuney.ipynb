{
  "nbformat": 4,
  "nbformat_minor": 0,
  "metadata": {
    "colab": {
      "name": "BIO310-Lab3-KaanGuney",
      "provenance": [],
      "collapsed_sections": []
    },
    "kernelspec": {
      "name": "python3",
      "display_name": "Python 3"
    }
  },
  "cells": [
    {
      "cell_type": "markdown",
      "metadata": {
        "id": "KzH7XIJbLTYU",
        "colab_type": "text"
      },
      "source": [
        "# _Name:_ ***Kaan Güney Keklikçi***\n",
        "# _ID:_ ***24986***\n",
        "# _Assignment:_ ***LAB 3***\n",
        "*********************"
      ]
    },
    {
      "cell_type": "code",
      "metadata": {
        "id": "EGnFchqMuxrF",
        "colab_type": "code",
        "outputId": "98cd99a2-1cac-4f81-ca40-46c252082306",
        "colab": {
          "base_uri": "https://localhost:8080/",
          "height": 122
        }
      },
      "source": [
        "# first, mount the drive\n",
        "from google.colab import drive\n",
        "drive.mount(\"/content/drive\")"
      ],
      "execution_count": 1,
      "outputs": [
        {
          "output_type": "stream",
          "text": [
            "Go to this URL in a browser: https://accounts.google.com/o/oauth2/auth?client_id=947318989803-6bn6qk8qdgf4n4g3pfee6491hc0brc4i.apps.googleusercontent.com&redirect_uri=urn%3aietf%3awg%3aoauth%3a2.0%3aoob&response_type=code&scope=email%20https%3a%2f%2fwww.googleapis.com%2fauth%2fdocs.test%20https%3a%2f%2fwww.googleapis.com%2fauth%2fdrive%20https%3a%2f%2fwww.googleapis.com%2fauth%2fdrive.photos.readonly%20https%3a%2f%2fwww.googleapis.com%2fauth%2fpeopleapi.readonly\n",
            "\n",
            "Enter your authorization code:\n",
            "··········\n",
            "Mounted at /content/drive\n"
          ],
          "name": "stdout"
        }
      ]
    },
    {
      "cell_type": "code",
      "metadata": {
        "id": "lzmeYr1GChc2",
        "colab_type": "code",
        "outputId": "92358f24-937f-4b91-9e65-a5ce8564d84a",
        "colab": {
          "base_uri": "https://localhost:8080/",
          "height": 34
        }
      },
      "source": [
        "# navigate to the directory \n",
        "%cd \"/content/drive/My Drive\""
      ],
      "execution_count": 2,
      "outputs": [
        {
          "output_type": "stream",
          "text": [
            "/content/drive/My Drive\n"
          ],
          "name": "stdout"
        }
      ]
    },
    {
      "cell_type": "markdown",
      "metadata": {
        "id": "eGM80jicSBWD",
        "colab_type": "text"
      },
      "source": [
        "## ***PART 1***\n",
        "\n",
        "> _A little puzzle_\n",
        "\n",
        ">> ***_PART 1 Answers;_***\n",
        "\n",
        ">>> ***1)*** _Scores of gap penalty, mismatch and match for the given matrix:_\n",
        "\n",
        ">>>> ***Match:*** _8_\n",
        "\n",
        ">>>> ***MisMatch:*** _-5_\n",
        "\n",
        ">>>> ***GapPenalty:*** _-3_\n",
        "\n",
        ">>> ***2)*** _A couple of DNA sequences that could possibly match the matrix scores:_\n",
        "\n",
        ">>>> ***Sequence 1:*** _A A A A T C C A T_ _(Horizontal)_\n",
        "\n",
        ">>>> ***Sequence 2:*** _C A A A S M T C C C_ _(Vertical)_\n",
        "\n",
        ">>> ***3)*** _Trace-back arrows provided in an embedded image to the notebook:_\n",
        "\n",
        ">>>> ![alt text](https://drive.google.com/uc?id=1fC0A2_25vGHdgjpHfy3kuoQuxJsauqlN)\n",
        "\n",
        ">>> ***4)*** _Finally, the alignment:_\n",
        "\n",
        ">>>> _First Seq_: ***A A A A  -  -  T C C A T***\n",
        "\n",
        ">>>> _Second Seq_: ***C A A A S M T C C - C***\n",
        "\n",
        "**************************\n"
      ]
    },
    {
      "cell_type": "markdown",
      "metadata": {
        "id": "4R-qmN8gKWbi",
        "colab_type": "text"
      },
      "source": [
        "## ***PART 2***\n",
        "\n",
        "> _Consevation in Multiple Sequence Alignments_\n",
        "\n",
        ">> ***_PART 2 includes the following;_***\n",
        "\n",
        ">>> ***1)*** _Entropy BarPlot & Conservation ScorePlot_\n",
        "\n",
        ">>> ***2)*** _Comments on highly conserved positions_\n",
        "\n",
        ">>> ***3)*** _Comments on functionality & structure_\n",
        "\n",
        "**************************"
      ]
    },
    {
      "cell_type": "markdown",
      "metadata": {
        "id": "COlq5l55elmc",
        "colab_type": "text"
      },
      "source": [
        "# ***2)***\n",
        "\n",
        "> ### ***a)*** _You may find the code below for file parsing & extracting & calculating entropy & plotting the graph._\n",
        "\n",
        "*************"
      ]
    },
    {
      "cell_type": "code",
      "metadata": {
        "id": "Z98PHjTbCvv2",
        "colab_type": "code",
        "outputId": "6b2be5c8-e950-41a8-a63d-e6eb6fe92700",
        "colab": {
          "base_uri": "https://localhost:8080/",
          "height": 51
        }
      },
      "source": [
        "import sys \n",
        "\n",
        "filename = input(\"Please enter the filename for entropy scoring analysis: \")\n",
        "\n",
        "if(filename != \"GAL4_MSA_aln.txt\"):\n",
        "  sys.exit()\n",
        "else:\n",
        "  print(\"Correct filename, proceed granted!\")"
      ],
      "execution_count": 3,
      "outputs": [
        {
          "output_type": "stream",
          "text": [
            "Please enter the filename for entropy scoring analysis: GAL4_MSA_aln.txt\n",
            "Correct filename, proceed granted!\n"
          ],
          "name": "stdout"
        }
      ]
    },
    {
      "cell_type": "code",
      "metadata": {
        "id": "FmoQdKUbClB2",
        "colab_type": "code",
        "colab": {}
      },
      "source": [
        "# traverse the file \n",
        "with open(filename, \"r\") as f:\n",
        "  terminate = True\n",
        "  countline = 0\n",
        "  contents = []\n",
        "  while(terminate):\n",
        "    line = f.readline()\n",
        "    if not line:\n",
        "      terminate = False\n",
        "    if(line.count(\">\") == 0):\n",
        "      contents.append(line.replace(\"\\n\",\"\"))\n",
        "  f.close()\n",
        "\n",
        "# eliminate the last line -> empty\n",
        "del contents[-1]\n",
        "\n",
        "# now, group-up the sequences in groups of 3 because a sequence is consisted of 3 lines\n",
        "def grouper(contents):\n",
        "  # create a new array instance for the sequence groups \n",
        "  sequences = []\n",
        "  index = 0 \n",
        "  to_be_added = \"\"\n",
        "  while(True):\n",
        "    sub = contents[index:index+3]\n",
        "    for line in sub:\n",
        "      to_be_added += line\n",
        "    # add to the new instance\n",
        "    sequences.append(to_be_added)\n",
        "    # reset\n",
        "    to_be_added = \"\"\n",
        "    index += 3\n",
        "    if(index == len(contents)):\n",
        "      return sequences \n",
        "\n",
        "# get sequences, finally adjusted accordingly \n",
        "sequences = grouper(contents)"
      ],
      "execution_count": 0,
      "outputs": []
    },
    {
      "cell_type": "code",
      "metadata": {
        "id": "OQH8MWY9fDwd",
        "colab_type": "code",
        "colab": {
          "base_uri": "https://localhost:8080/",
          "height": 51
        },
        "outputId": "ecca867b-7ba7-41a7-8efa-188ac3ffe074"
      },
      "source": [
        "# measure whether all sequences are of same length\n",
        "def ConstantLineLength(sequences):\n",
        "  checker = len(sequences[0]) # initial length\n",
        "  for line in range(1,len(sequences)):\n",
        "    if(len(sequences[line]) != checker):\n",
        "      return 0\n",
        "  return 1\n",
        "  \n",
        "# sequence length check \n",
        "if(ConstantLineLength(sequences) == 0):\n",
        "  print(\"All sequences are not the same length!\")\n",
        "  sys.exit() # finish up here\n",
        "else:\n",
        "  print(\"All sequences are of same length, proceed!\")\n",
        "\n",
        "\n",
        "# count the occurrences of the letter\n",
        "def Counter(col_nucleotide,letter):\n",
        "  count = 0\n",
        "  for x in range(len(col_nucleotide)):\n",
        "    if(col_nucleotide[x] == letter):\n",
        "      count += 1\n",
        "  return count\n",
        "\n",
        "# remove duplicates for frequency count\n",
        "def GetDistintValues(col_nucleotide):\n",
        "  distinct = []\n",
        "  for letter in col_nucleotide:\n",
        "    if letter not in distinct:\n",
        "      distinct.append(letter)\n",
        "  return distinct\n",
        "\n",
        "# entropy calculator\n",
        "import math # for log\n",
        "def GetEntropy(col_entropy,col_nucleotide):\n",
        "  total = len(col_nucleotide)\n",
        "  distinct = GetDistintValues(col_nucleotide)\n",
        "  index = 0\n",
        "  letterCount = 0\n",
        "  col_score = 0 \n",
        "  prob = 0\n",
        "  while(index != len(distinct)):\n",
        "    letter = distinct[index]\n",
        "    letterCount = Counter(col_nucleotide,letter)\n",
        "    prob = letterCount / total\n",
        "    col_score += (-1*prob*(math.log(prob,2)))\n",
        "    # increment the index\n",
        "    index += 1\n",
        "  return col_score\n",
        "\n",
        "# calculate entropy score for each column \n",
        "col = []\n",
        "index_end = len(sequences[0]) # pick the initial, all are same\n",
        "index_start = 0\n",
        "col_nucleotide = []\n",
        "col_entropy = [] # column entropy\n",
        "while(index_start != index_end):\n",
        "  for line in sequences:\n",
        "    col_nucleotide.append(line[index_start])\n",
        "  # calculate entropy here\n",
        "  col_entropy.append(GetEntropy(col_entropy,col_nucleotide))\n",
        "  col_nucleotide = [] # reset \n",
        "  index_start += 1 # shift\n",
        "print(\"Entropy scores are calculated, plotting the graph...\")"
      ],
      "execution_count": 5,
      "outputs": [
        {
          "output_type": "stream",
          "text": [
            "All sequences are of same length, proceed!\n",
            "Entropy scores are calculated, plotting the graph...\n"
          ],
          "name": "stdout"
        }
      ]
    },
    {
      "cell_type": "code",
      "metadata": {
        "id": "Yrvr0zklrWf7",
        "colab_type": "code",
        "colab": {
          "base_uri": "https://localhost:8080/",
          "height": 552
        },
        "outputId": "2064056e-a18e-4ad6-8c83-0a6c55d00528"
      },
      "source": [
        "import matplotlib.pyplot as plt # for plots \n",
        "import numpy as np \n",
        "# positions\n",
        "x_coord = np.arange(index_end)\n",
        "# scores \n",
        "y_coord = np.array(col_entropy)\n",
        "fig = plt.figure()\n",
        "print(\"Creating the figure for entropy scores...\")\n",
        "fig, ax = plt.subplots(figsize = (15,8))\n",
        "plt.bar(x_coord,y_coord,width=0.8,color=\"g\")\n",
        "fig.text(0.5,0.05, \"Positions\", ha=\"center\", va=\"center\", fontsize=20,fontweight=\"bold\")\n",
        "fig.text(0.07,0.5, \"Entropy Scores\", ha=\"center\", va=\"center\", rotation=90, fontsize=20,fontweight=\"bold\")\n",
        "plt.show()"
      ],
      "execution_count": 12,
      "outputs": [
        {
          "output_type": "stream",
          "text": [
            "Creating the figure for entropy scores...\n"
          ],
          "name": "stdout"
        },
        {
          "output_type": "display_data",
          "data": {
            "text/plain": [
              "<Figure size 432x288 with 0 Axes>"
            ]
          },
          "metadata": {
            "tags": []
          }
        },
        {
          "output_type": "display_data",
          "data": {
            "image/png": "[encoded data removed]",
            "text/plain": [
              "<Figure size 1080x576 with 1 Axes>"
            ]
          },
          "metadata": {
            "tags": []
          }
        }
      ]
    },
    {
      "cell_type": "code",
      "metadata": {
        "id": "mGX_5_GXMjok",
        "colab_type": "code",
        "colab": {
          "base_uri": "https://localhost:8080/",
          "height": 51
        },
        "outputId": "7a56f7b0-b929-464e-a0d7-f72343c1ec9c"
      },
      "source": [
        "# get the max % min entropy scores found\n",
        "print(\"Maximum entropy score for a column is ({:03.2f}).\".format(np.max(col_entropy)))\n",
        "print(\"Minimum entropy score for a column is ({}).\".format(np.min(col_entropy)))"
      ],
      "execution_count": 9,
      "outputs": [
        {
          "output_type": "stream",
          "text": [
            "Maximum entropy score for a column is (3.72).\n",
            "Minimum entropy score for a column is (0.0).\n"
          ],
          "name": "stdout"
        }
      ]
    },
    {
      "cell_type": "markdown",
      "metadata": {
        "id": "0cFwW0sTLvMI",
        "colab_type": "text"
      },
      "source": [
        "> ### ***COMMENTS on highly-conserved positions:***\n",
        ">> ***->*** _After navigating to Uniprot and examining the metal binding positions 11 - 38, it is easy to see that these positions specifically correspond to the highest entropy spikes in the graph._\n",
        "\n",
        ">> ***->*** ***_Therefore, these regions; since they correspond to the entropy score spikes in the plot, are used to bind those._*** Futher examination reveals that these regions are:\n",
        "\n",
        ">>> ***->*** _Position 11: Zinc 1_\n",
        "\n",
        ">>> ***->*** _Position 11: Zinc 2_\n",
        "\n",
        ">>> ***->*** _Position 14: Zinc 1_\n",
        "\n",
        ">>> ***->*** _Position 21: Zinc 1_\n",
        "\n",
        ">>> ***->*** _Position 28: Zinc 1_\n",
        "\n",
        ">>> ***->*** _Position 31: Zinc 2_\n",
        "\n",
        ">>> ***->*** _Position 38: Zinc 2_\n",
        "\n",
        "> ***_Note that, these positions generally have a sequence step-size of 7 and the corresponding nucleotide is \"C\"._***\n",
        "\n",
        "*******************"
      ]
    },
    {
      "cell_type": "markdown",
      "metadata": {
        "id": "VRfN3TVEkSdP",
        "colab_type": "text"
      },
      "source": [
        "## ***2)***\n",
        "\n",
        "> ### ***b)*** _You may find the code below for scaled conservation scores to the [0-10] range such that highly conserved positions get a higher score._\n",
        "\n",
        "***********"
      ]
    },
    {
      "cell_type": "code",
      "metadata": {
        "id": "NiFO0mKQob4M",
        "colab_type": "code",
        "colab": {
          "base_uri": "https://localhost:8080/",
          "height": 552
        },
        "outputId": "5c27cd11-02e1-4983-a5f0-7d7f1b347393"
      },
      "source": [
        "# use entropy to calculate for conservation score vs position\n",
        "ScaledScores = []\n",
        "\n",
        "# convert the entropy to conservation scores by using this formula -> ((maxEntropy - colEntropy) * 10 / maxEntropy)\n",
        "# maxEntropy happens where all amino acids have equal probability = 1/20\n",
        "# maxEntropy - entropy = conservation\n",
        "\n",
        "# calculate max entropy\n",
        "equal_prob = 0.05\n",
        "dummy = 0 \n",
        "get_max_entropy = lambda dummy : (-20 * math.log(equal_prob,2) * equal_prob)\n",
        "max_entropy = get_max_entropy(dummy)\n",
        "\n",
        "# scale using the formula above\n",
        "def scale(col_entropy,max_entropy,ScaledScores):\n",
        "  for entropy in col_entropy:\n",
        "    scaled = ((max_entropy - entropy) / max_entropy)*10\n",
        "    ScaledScores.append(scaled)\n",
        "  return ScaledScores\n",
        "\n",
        "# plot for conservation scores\n",
        "ScaledScores = scale(col_entropy,max_entropy,ScaledScores)\n",
        "# positions\n",
        "x_coord = np.arange(index_end)\n",
        "# scores \n",
        "y_coord = np.array(ScaledScores)\n",
        "fig = plt.figure()\n",
        "print(\"Creating the figure for conservation scores...\")\n",
        "fig, ax = plt.subplots(figsize = (15,8))\n",
        "plt.bar(x_coord,y_coord,width=0.8)\n",
        "fig.text(0.5,0.05, \"Positions\", ha=\"center\", va=\"center\", fontsize=20,fontweight=\"bold\")\n",
        "fig.text(0.07,0.5, \"Conservation Scores [0-10]\", ha=\"center\", va=\"center\", rotation=90, fontsize=20,fontweight=\"bold\")\n",
        "plt.show()"
      ],
      "execution_count": 24,
      "outputs": [
        {
          "output_type": "stream",
          "text": [
            "Creating the figure for conservation scores...\n"
          ],
          "name": "stdout"
        },
        {
          "output_type": "display_data",
          "data": {
            "text/plain": [
              "<Figure size 432x288 with 0 Axes>"
            ]
          },
          "metadata": {
            "tags": []
          }
        },
        {
          "output_type": "display_data",
          "data": {
            "image/png": "[encoded data removed]",
            "text/plain": [
              "<Figure size 1080x576 with 1 Axes>"
            ]
          },
          "metadata": {
            "tags": []
          }
        }
      ]
    },
    {
      "cell_type": "markdown",
      "metadata": {
        "id": "tVPoYPdNcJuR",
        "colab_type": "text"
      },
      "source": [
        "## ***2)***\n",
        "\n",
        "> ### ***c)_Yes, they do have functional significance._***\n",
        "\n",
        ">> _* Highly conserved regions act as metal binders, in fact, they bind Zinc 1 & 2 ions given their positions in the graph._ \n",
        "\n",
        ">> _* They also act as DNA binders where the position in the nucleotide both specifies the position and type of each DNA-binding domain present within the protein._\n",
        "\n",
        ">> _*The associated region also functions for Zn(2)-C6 fungal-type, meaning that it functions as a regulator for transcription._\n",
        "\n",
        "***********"
      ]
    },
    {
      "cell_type": "code",
      "metadata": {
        "id": "HZaidFzyeSwY",
        "colab_type": "code",
        "colab": {}
      },
      "source": [
        "# END OF LAB 3..."
      ],
      "execution_count": 0,
      "outputs": []
    }
  ]
}